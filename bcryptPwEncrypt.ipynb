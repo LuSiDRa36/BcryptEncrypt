{
 "cells": [
  {
   "cell_type": "code",
   "execution_count": 1,
   "metadata": {},
   "outputs": [
    {
     "name": "stdout",
     "output_type": "stream",
     "text": [
      "b'$2b$10$VWSXurkGsODhtNBhE2ZDnu/ytQK/4hPHwmxDzz1ZShbrpb23glsiW'\n",
      "1.2159347534179688e-05\n"
     ]
    }
   ],
   "source": [
    "# Import bcrypt:\n",
    "import bcrypt\n",
    "import time\n",
    "\n",
    "start = time.time()\n",
    "end = time.time()\n",
    "password = \"supersecretpasswordgoeshere\"\n",
    "# Encode password into a readable utf-8 byte code: \n",
    "password = password.encode('utf-8')\n",
    "# Hash the ecoded password and generate a salt: \n",
    "hashedPassword = bcrypt.hashpw(password, bcrypt.gensalt(10))\n",
    "print(hashedPassword)\n",
    "print(end - start)"
   ]
  },
  {
   "cell_type": "code",
   "execution_count": 2,
   "metadata": {},
   "outputs": [
    {
     "name": "stdout",
     "output_type": "stream",
     "text": [
      "incorrect password\n"
     ]
    }
   ],
   "source": [
    "import bcrypt\n",
    "#store your password:\n",
    "password = str(input(\"input password: \")) \n",
    "# Encode the stored password:\n",
    "password = password.encode('utf-8')\n",
    "# Encrypt the stored pasword:\n",
    "hashed = bcrypt.hashpw(password, bcrypt.gensalt(10)) \n",
    "# Create an authenticating password input field to check if a user enters the correct password: \n",
    "check = str(input(\"check password: \")) \n",
    "# Encode the authenticating password as well:\n",
    "check = check.encode('utf-8') \n",
    "# Use conditions to compare the authenticating password with the stored one:\n",
    "if bcrypt.checkpw(check, hashed):\n",
    " print(\"login success\")\n",
    "else:\n",
    " print(\"incorrect password\")"
   ]
  }
 ],
 "metadata": {
  "interpreter": {
   "hash": "aee8b7b246df8f9039afb4144a1f6fd8d2ca17a180786b69acc140d282b71a49"
  },
  "kernelspec": {
   "display_name": "Python 3.9.6 64-bit",
   "language": "python",
   "name": "python3"
  },
  "language_info": {
   "codemirror_mode": {
    "name": "ipython",
    "version": 3
   },
   "file_extension": ".py",
   "mimetype": "text/x-python",
   "name": "python",
   "nbconvert_exporter": "python",
   "pygments_lexer": "ipython3",
   "version": "3.9.6"
  },
  "orig_nbformat": 4
 },
 "nbformat": 4,
 "nbformat_minor": 2
}
